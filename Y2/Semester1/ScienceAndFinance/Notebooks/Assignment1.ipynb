{
 "cells": [
  {
   "cell_type": "markdown",
   "metadata": {},
   "source": [
    "### CS2101 - Programming for Science and Finance\n",
    "Prof. Götz Pfeiffer<br />\n",
    "School of Mathematical and Statistical Sciences<br />\n",
    "University of Galway"
   ]
  },
  {
   "cell_type": "markdown",
   "metadata": {},
   "source": [
    "___\n",
    "# Computer Lab 1\n",
    "___"
   ]
  },
  {
   "cell_type": "markdown",
   "metadata": {},
   "source": [
    "##  1. Warmup.\n",
    "1. The code in the following cell computes the $10$ th power of $2$.  Determine its exact value.\n",
    "Then modify the code so that it represents the $1000$ th power of $2$ and compute that value."
   ]
  },
  {
   "cell_type": "code",
   "execution_count": 1,
   "metadata": {},
   "outputs": [
    {
     "data": {
      "text/plain": [
       "10715086071862673209484250490600018105614048117055336074437503883703510511249361224931983788156958581275946729175531468251871452856923140435984577574698574803934567774824230985421074605062371141877954182153046474983581941267398767559165543946077062914571196477686542167660429831652624386837205668069376"
      ]
     },
     "execution_count": 1,
     "metadata": {},
     "output_type": "execute_result"
    }
   ],
   "source": [
    "2**1000"
   ]
  },
  {
   "cell_type": "markdown",
   "metadata": {},
   "source": [
    "2. The code in the following cell computes the sum of `\"1234\"` and `\"5432\"`.  Determine that value.  Then modify the code so that it represents the sum of the **numbers** $1234$ and $5432$ and compute that value."
   ]
  },
  {
   "cell_type": "code",
   "execution_count": 2,
   "metadata": {},
   "outputs": [
    {
     "data": {
      "text/plain": [
       "6657"
      ]
     },
     "execution_count": 2,
     "metadata": {},
     "output_type": "execute_result"
    }
   ],
   "source": [
    "1234 + 5423"
   ]
  },
  {
   "cell_type": "markdown",
   "metadata": {},
   "source": [
    "___"
   ]
  },
  {
   "cell_type": "markdown",
   "metadata": {},
   "source": [
    "##  2.  One Liners"
   ]
  },
  {
   "cell_type": "markdown",
   "metadata": {},
   "source": [
    "1. Write a `Python` program that determines the number of **full** weeks left until the end of the year, if there are $91$ days remaining."
   ]
  },
  {
   "cell_type": "code",
   "execution_count": 3,
   "metadata": {},
   "outputs": [
    {
     "data": {
      "text/plain": [
       "13"
      ]
     },
     "execution_count": 3,
     "metadata": {},
     "output_type": "execute_result"
    }
   ],
   "source": [
    "fullWeeks = 91 // 7 \n",
    "fullWeeks"
   ]
  },
  {
   "cell_type": "markdown",
   "metadata": {},
   "source": [
    "2. Write a `Python` program that allows you to determine whether $200001079$ is a multiple of $5323$."
   ]
  },
  {
   "cell_type": "code",
   "execution_count": 4,
   "metadata": {},
   "outputs": [
    {
     "data": {
      "text/plain": [
       "True"
      ]
     },
     "execution_count": 4,
     "metadata": {},
     "output_type": "execute_result"
    }
   ],
   "source": [
    "isMultiple = 200001079 % 5323 == 0\n",
    "isMultiple"
   ]
  },
  {
   "cell_type": "markdown",
   "metadata": {},
   "source": [
    "3. Write a `Python` program that computes the interest on an investment of EUR 89235.41 at an interest rate of 4.5 percent."
   ]
  },
  {
   "cell_type": "code",
   "execution_count": 5,
   "metadata": {},
   "outputs": [
    {
     "data": {
      "text/plain": [
       "4015.59345"
      ]
     },
     "execution_count": 5,
     "metadata": {},
     "output_type": "execute_result"
    }
   ],
   "source": [
    "interest = 89235.41 * 0.045 # principal * rate (decimal)\n",
    "interest"
   ]
  },
  {
   "cell_type": "markdown",
   "metadata": {},
   "source": [
    "4. Write a `Python` program that determines the future value of a sum of EUR 189235.41 invested for two years at an interest rate of 4.4 percent per year, with interest compounded every three months."
   ]
  },
  {
   "cell_type": "markdown",
   "metadata": {},
   "source": [
    "$$FV = P \\times \\left(1 + \\dfrac{r}{n}\\right)^{n\\times t}$$\n",
    "\n",
    "<br>\n",
    "\n",
    "- With:\n",
    "- $FV : \\text{Future value}$\n",
    "- $P : \\text{Initial Investment (principal amount)}$\n",
    "- $r : \\text{Annual interest rate}$\n",
    "- $n : \\text{Num. times interest rate is compounded per year}$\n",
    "- $t : \\text{Num. years}$"
   ]
  },
  {
   "cell_type": "code",
   "execution_count": 6,
   "metadata": {},
   "outputs": [
    {
     "data": {
      "text/plain": [
       "206543.55615739748"
      ]
     },
     "execution_count": 6,
     "metadata": {},
     "output_type": "execute_result"
    }
   ],
   "source": [
    "future_value = 189235.41 * (1 + 0.044 / 4) ** (4 * 2)\n",
    "future_value"
   ]
  },
  {
   "cell_type": "markdown",
   "metadata": {},
   "source": [
    "___"
   ]
  },
  {
   "cell_type": "markdown",
   "metadata": {},
   "source": [
    "## 3. Short Functions"
   ]
  },
  {
   "cell_type": "markdown",
   "metadata": {},
   "source": [
    "1. Write a short `python` function that computes the sum of the cubes\n",
    "of the numbers from $1$ to $n$."
   ]
  },
  {
   "cell_type": "code",
   "execution_count": 7,
   "metadata": {},
   "outputs": [],
   "source": [
    "def sum_of_cubes(n : int) -> int: ## Change function name 'sum_of_squares -> sum_of_cubes'\n",
    "    return (n * (n+1) / 2)**2 "
   ]
  },
  {
   "cell_type": "markdown",
   "metadata": {},
   "source": [
    "2. The sum of the first $10$ cubes is $3025$.  Verify that this is the value your function returns. "
   ]
  },
  {
   "cell_type": "code",
   "execution_count": 8,
   "metadata": {},
   "outputs": [
    {
     "data": {
      "text/plain": [
       "True"
      ]
     },
     "execution_count": 8,
     "metadata": {},
     "output_type": "execute_result"
    }
   ],
   "source": [
    "sum_of_cubes(10) == 3025"
   ]
  },
  {
   "cell_type": "markdown",
   "metadata": {},
   "source": [
    "3. Write a `python` function `mpg2lp100km` that converts miles per gallon into litres per 100 kilometres."
   ]
  },
  {
   "cell_type": "markdown",
   "metadata": {},
   "source": [
    "\n",
    "- $L/100 \\, \\text{km} = \\dfrac{\\text{Litres in 100km}}{\\text{Miles per gallon}}$\n",
    "\n",
    "- $1 \\, \\text{mile} = 1.609344 \\, \\text{km}$\n",
    "\n",
    "- $\\text{Litres in 100km} = \\dfrac{100 \\, \\text{km}}{1.609344 \\, \\text{km/mile}}$\n",
    "\n",
    "- $4.54609 \\, \\text{liters/gallon (Imperial)}$\n",
    "\n",
    "- $L/100 \\, \\text{km} = \\dfrac{100 \\, \\text{km}}{1.609344 \\, \\text{km/mile}} \\times \\dfrac{4.54609 \\, \\text{litres}}{\\text{miles per gallon (MPG)}}$\n",
    "\n",
    "<br>\n",
    "\n",
    "$$\n",
    "L/100 \\, \\text{km} = \\dfrac{282.481}{\\text{MPG}}\n",
    "$$\n"
   ]
  },
  {
   "cell_type": "code",
   "execution_count": 9,
   "metadata": {},
   "outputs": [],
   "source": [
    "def mpg2lp100km(mpg : int) -> int:\n",
    "    return (282.481) / mpg\n",
    "    "
   ]
  },
  {
   "cell_type": "markdown",
   "metadata": {},
   "source": [
    "4. It is known that 35 miles per gallon are roughly 8.1 litres per 100 km. Verify that this is what your function computes."
   ]
  },
  {
   "cell_type": "code",
   "execution_count": 10,
   "metadata": {},
   "outputs": [
    {
     "data": {
      "text/plain": [
       "True"
      ]
     },
     "execution_count": 10,
     "metadata": {},
     "output_type": "execute_result"
    }
   ],
   "source": [
    "litresPer100km =  mpg2lp100km(35)\n",
    "roundedLitresPer100km = round(litresPer100km, 1)\n",
    "roundedLitresPer100km == 8.1"
   ]
  },
  {
   "cell_type": "markdown",
   "metadata": {},
   "source": [
    "___"
   ]
  },
  {
   "cell_type": "markdown",
   "metadata": {},
   "source": [
    "## 4. More Functions."
   ]
  },
  {
   "cell_type": "markdown",
   "metadata": {},
   "source": [
    "1. In a certain country, a single employee  pays 20% tax \n",
    "on an annual income of up to EUR 42,000,\n",
    "and 40% on every euro earned in excess of that.\n",
    "Write a Python function `tax`\n",
    "that takes the annual income in euro as argument, and\n",
    "computes and returns the amount (in euro) of tax to be paid on that."
   ]
  },
  {
   "cell_type": "code",
   "execution_count": 11,
   "metadata": {},
   "outputs": [],
   "source": [
    "def tax(income : int) -> int:\n",
    "    lower_threshold = 42_000\n",
    "    lower_rate = 0.2\n",
    "    higher_rate = 0.4\n",
    "\n",
    "    if income <= lower_threshold:\n",
    "        return income * lower_rate\n",
    "    return lower_threshold * lower_rate + (income - lower_threshold) * higher_rate\n"
   ]
  },
  {
   "cell_type": "markdown",
   "metadata": {},
   "source": [
    "2.  How much tax is to be paid on an annual income of EUR 90,000?"
   ]
  },
  {
   "cell_type": "code",
   "execution_count": 12,
   "metadata": {},
   "outputs": [
    {
     "data": {
      "text/plain": [
       "27600.0"
      ]
     },
     "execution_count": 12,
     "metadata": {},
     "output_type": "execute_result"
    }
   ],
   "source": [
    "tax(90_000)"
   ]
  },
  {
   "cell_type": "markdown",
   "metadata": {},
   "source": [
    "3. Let's say an **anagram** of a word is **any** rearrangement of its letters (regardless of whether this gives a word from the dictionary or not).  So the rearrangements of the word `\"lab\"` are\n",
    "  ```python\n",
    "  [ \"abl\", \"alb\", \"bal\", \"bla\", \"lab\", \"lba\" ]\n",
    "  ```\n",
    "Write a python function `anagrams`, which given a (short) word finds **all** its anagrams and returns the list of them."
   ]
  },
  {
   "cell_type": "code",
   "execution_count": 13,
   "metadata": {},
   "outputs": [
    {
     "data": {
      "text/plain": [
       "True"
      ]
     },
     "execution_count": 13,
     "metadata": {},
     "output_type": "execute_result"
    }
   ],
   "source": [
    "def anagrams(word : str, allowDupes : bool = False ) -> list:\n",
    "    # Function to generate permutations of the given word\n",
    "    def generatePermutations(currentAnagram, remainingChars):\n",
    "        # Base case: if no characters are remaining, add the current anagram to the result list\n",
    "        if len(remainingChars) == 0:\n",
    "            ## Allow duplicate anagrams if allowDupes is True, or if the current anagram is not already in the result list\n",
    "            if allowDupes or currentAnagram not in result:\n",
    "                result.append(currentAnagram)\n",
    "        else:\n",
    "            # Recursive case: iterate over the remaining characters\n",
    "            for i in range(len(remainingChars)):\n",
    "                # Generate new permutations by choosing each character in turn\n",
    "                # and recursively calling the function with the remaining characters\n",
    "                generatePermutations(currentAnagram + remainingChars[i], remainingChars[:i] + remainingChars[i+1:])\n",
    "\n",
    "    result = []  # Initialize an empty list to store the anagrams\n",
    "    generatePermutations(\"\", word)  # Start the recursion with an empty current anagram and the full word\n",
    "    return result  # Return the list of generated anagrams\n",
    "\n",
    "sorted(anagrams(\"lab\")) == [ \"abl\", \"alb\", \"bal\", \"bla\", \"lab\", \"lba\" ] ## Check if the result matches the expected anagrams"
   ]
  },
  {
   "cell_type": "markdown",
   "metadata": {},
   "source": [
    "4. What are the anagrams of the word `\"food\"`?"
   ]
  },
  {
   "cell_type": "code",
   "execution_count": 14,
   "metadata": {},
   "outputs": [
    {
     "data": {
      "text/plain": [
       "['food',\n",
       " 'fodo',\n",
       " 'fdoo',\n",
       " 'ofod',\n",
       " 'ofdo',\n",
       " 'oofd',\n",
       " 'oodf',\n",
       " 'odfo',\n",
       " 'odof',\n",
       " 'dfoo',\n",
       " 'dofo',\n",
       " 'doof']"
      ]
     },
     "execution_count": 14,
     "metadata": {},
     "output_type": "execute_result"
    }
   ],
   "source": [
    "anagrams(\"food\", allowDupes=False)"
   ]
  },
  {
   "cell_type": "markdown",
   "metadata": {},
   "source": [
    "## 5. Euclid's Algorithm"
   ]
  },
  {
   "cell_type": "markdown",
   "metadata": {},
   "source": [
    "<!-- * Recall Euclid's Algorithm for the computation of the greatest common divisor of two numbers -->"
   ]
  },
  {
   "cell_type": "markdown",
   "metadata": {},
   "source": [
    "* Modify this code, by adding a suitable `print` statement, so that the function when called prints out its step-by-step progress, as you would do yourself.  That is, `gcd(60, 24)` should give a report like\n",
    "\n",
    "    ```python\n",
    "    def gcd(a : int, b : int) -> int:\n",
    "        if b == 0:\n",
    "            return a\n",
    "        else:\n",
    "            return gcd(b, a % b)\n",
    "    ```\n",
    "\n",
    "\n",
    "  ```python\n",
    "  gcd(60, 24) =\n",
    "  gcd(24, 12) =\n",
    "  gcd(12, 0) =\n",
    "  12\n",
    "  ```"
   ]
  },
  {
   "cell_type": "code",
   "execution_count": 15,
   "metadata": {},
   "outputs": [],
   "source": [
    "def gcd(a, b):\n",
    "\n",
    "    print(f\"gcd({a}, {b}) = \")\n",
    "\n",
    "    if b == 0:\n",
    "        print(a)\n",
    "    else:\n",
    "        return gcd(b, a % b)"
   ]
  },
  {
   "cell_type": "code",
   "execution_count": 16,
   "metadata": {},
   "outputs": [
    {
     "name": "stdout",
     "output_type": "stream",
     "text": [
      "gcd(60, 24) = \n",
      "gcd(24, 12) = \n",
      "gcd(12, 0) = \n",
      "12\n"
     ]
    }
   ],
   "source": [
    "gcd(60, 24)"
   ]
  },
  {
   "cell_type": "markdown",
   "metadata": {},
   "source": [
    "___"
   ]
  }
 ],
 "metadata": {
  "kernelspec": {
   "display_name": "Python 3",
   "language": "python",
   "name": "python3"
  },
  "language_info": {
   "codemirror_mode": {
    "name": "ipython",
    "version": 3
   },
   "file_extension": ".py",
   "mimetype": "text/x-python",
   "name": "python",
   "nbconvert_exporter": "python",
   "pygments_lexer": "ipython3",
   "version": "3.12.7"
  }
 },
 "nbformat": 4,
 "nbformat_minor": 4
}
