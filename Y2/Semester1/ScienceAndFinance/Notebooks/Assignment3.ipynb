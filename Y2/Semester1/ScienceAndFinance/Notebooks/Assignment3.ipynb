{
 "cells": [
  {
   "cell_type": "markdown",
   "metadata": {},
   "source": [
    "### CS2101 - Programming for Science and Finance\n",
    "Prof. Götz Pfeiffer<br />\n",
    "School of Mathematical and Statistical Sciences<br />\n",
    "University of Galway"
   ]
  },
  {
   "cell_type": "markdown",
   "metadata": {},
   "source": [
    "___\n",
    "# Computer Lab 3\n",
    "___"
   ]
  },
  {
   "cell_type": "markdown",
   "metadata": {},
   "source": [
    "##  1. Payments.\n",
    "\n",
    "Construct a class `Payment` for financial payments with attributes `amount` and `description`.\n",
    "The `amount` should be a floating point number (perhaps rounded to 2 decimal digits).\n",
    "The `description` should be a (short) text describing the purpose of this payment.\n",
    "\n",
    "Methods to be defined in the class shnould include\n",
    "* a constructor `__init__` to make a `Payment` object and assign vlues to the attributes `amount` and `description`;\n",
    "* a string representation `__repr__`, perhaps printing the `Payment` object in the same was as it was constructed;\n",
    "* an addition function `__add__`, which returns a new `Payment` object whose amount is the sum of two given payements, and whose description is simply `\"sum\"` or so.\n",
    "* a negation function `__neg__`, which returns a new payment whose amount is the negative of a given payment\n",
    "* a subtraction function `__sub__`, which computes the difference of two given payments as the sum of one and the negative of the other."
   ]
  },
  {
   "cell_type": "code",
   "execution_count": 63,
   "metadata": {},
   "outputs": [],
   "source": [
    "class Payment:\n",
    "    def __init__(self, amount : float, description : str):\n",
    "        self.amount : float = round(amount,2)\n",
    "        self.description : str = description \n",
    "    \n",
    "    def __repr__(self):\n",
    "        return f\"{self.description} : {self.amount}\"\n",
    "    \n",
    "    def __add__(self, other):\n",
    "        # Adding two payments together\n",
    "        if isinstance(other, Payment):\n",
    "            return Payment(self.amount + other.amount, \"sum\")\n",
    "        return NotImplemented\n",
    "    \n",
    "    def __neg__(self):\n",
    "        return Payment(-self.amount, \"negation\")\n",
    "    \n",
    "    def __sub__(self, other):\n",
    "        if isinstance(other, Payment):\n",
    "            return Payment(self.amount - other.amount, \"subtract\")\n",
    "        else:\n",
    "            return NotImplemented\n"
   ]
  },
  {
   "cell_type": "markdown",
   "metadata": {},
   "source": [
    "* Test your class and objects with the following examples"
   ]
  },
  {
   "cell_type": "code",
   "execution_count": 64,
   "metadata": {},
   "outputs": [
    {
     "name": "stdout",
     "output_type": "stream",
     "text": [
      "Coffee : 2.57\n",
      "Deposit : 0.5\n"
     ]
    }
   ],
   "source": [
    "coffee = Payment(2.568, \"Coffee\")\n",
    "deposit = Payment(0.50, \"Deposit\")\n",
    "print(coffee)\n",
    "print(deposit)"
   ]
  },
  {
   "cell_type": "code",
   "execution_count": 65,
   "metadata": {},
   "outputs": [
    {
     "data": {
      "text/plain": [
       "sum : 3.07"
      ]
     },
     "execution_count": 65,
     "metadata": {},
     "output_type": "execute_result"
    }
   ],
   "source": [
    "coffee + deposit"
   ]
  },
  {
   "cell_type": "code",
   "execution_count": 66,
   "metadata": {},
   "outputs": [
    {
     "data": {
      "text/plain": [
       "subtract : 2.07"
      ]
     },
     "execution_count": 66,
     "metadata": {},
     "output_type": "execute_result"
    }
   ],
   "source": [
    "coffee - deposit"
   ]
  },
  {
   "cell_type": "markdown",
   "metadata": {},
   "source": [
    "## 2. Rational Numbers."
   ]
  },
  {
   "cell_type": "markdown",
   "metadata": {},
   "source": [
    "* Define a class `Rational` for **rational number objects** as follows.\n",
    "* A `Rational` object should have two (integer valued) attributes `num` (for the **numerator**) and `den` (for the **denominator**), so that it represents the value `num/den`.\n",
    "* Care should be taken to keep these attributes in **lowest terms**.\n",
    "* For this you might need a function `gcd` that computes the **greatest common divisor** of two integers:  use the one from class, or `from math import gcd`."
   ]
  },
  {
   "cell_type": "code",
   "execution_count": 67,
   "metadata": {},
   "outputs": [
    {
     "data": {
      "text/plain": [
       "8"
      ]
     },
     "execution_count": 67,
     "metadata": {},
     "output_type": "execute_result"
    }
   ],
   "source": [
    "from math import gcd\n",
    "\n",
    "gcd(24, 16)"
   ]
  },
  {
   "cell_type": "markdown",
   "metadata": {},
   "source": [
    "1. Start with a class definition that defines a constructor `__init__` and a string representation method `__repr__` for rational number objects."
   ]
  },
  {
   "cell_type": "code",
   "execution_count": 85,
   "metadata": {},
   "outputs": [],
   "source": [
    "class Rational:\n",
    "    def __init__(self, num: int, den: int):\n",
    "        if den == 0:\n",
    "            raise ValueError(\"Denominator cannot be zero.\")\n",
    "        \n",
    "        # Reduce the fraction to its lowest terms\n",
    "        common_divisor = gcd(num, den)\n",
    "        self.num = num // common_divisor\n",
    "        self.den = den // common_divisor\n",
    "        \n",
    "        # If the denominator is negative, adjust the sign to keep the denominator positive\n",
    "        if self.den < 0:\n",
    "            self.num = -self.num\n",
    "            self.den = -self.den\n",
    "\n",
    "    def __repr__(self):\n",
    "        if self.den == 1:\n",
    "            return str(self.num)\n",
    "        else:\n",
    "            return f\"{self.num}/{self.den}\"\n"
   ]
  },
  {
   "cell_type": "markdown",
   "metadata": {},
   "source": [
    "2. Test the class on these objects:"
   ]
  },
  {
   "cell_type": "code",
   "execution_count": 69,
   "metadata": {},
   "outputs": [
    {
     "name": "stdout",
     "output_type": "stream",
     "text": [
      "2/3\n",
      "-2/3\n",
      "-2/3\n"
     ]
    }
   ],
   "source": [
    "print(Rational(2,3))\n",
    "print(Rational(-2,3))\n",
    "print(Rational(2, -3))"
   ]
  },
  {
   "cell_type": "markdown",
   "metadata": {},
   "source": [
    "3. Write a function `neg_rational` that computes and returns the **negative** of a rational number object as a rational number object."
   ]
  },
  {
   "cell_type": "code",
   "execution_count": 70,
   "metadata": {},
   "outputs": [],
   "source": [
    "def neg_rational(rat : Rational) -> Rational:\n",
    "    return Rational(-rat.num, rat.den)"
   ]
  },
  {
   "cell_type": "markdown",
   "metadata": {},
   "source": [
    "4.  Test your function:"
   ]
  },
  {
   "cell_type": "code",
   "execution_count": 71,
   "metadata": {},
   "outputs": [
    {
     "data": {
      "text/plain": [
       "-3/5"
      ]
     },
     "execution_count": 71,
     "metadata": {},
     "output_type": "execute_result"
    }
   ],
   "source": [
    "neg_rational(Rational(3, 5))"
   ]
  },
  {
   "cell_type": "markdown",
   "metadata": {},
   "source": [
    "5.  Write a function `mul_rationals` that computes and returns the **product** of two rational number objects as a rational number object."
   ]
  },
  {
   "cell_type": "code",
   "execution_count": 72,
   "metadata": {},
   "outputs": [],
   "source": [
    "def mul_rationals(lft, rgt):\n",
    "    return Rational(lft.num * rgt.num, lft.den * rgt.den)"
   ]
  },
  {
   "cell_type": "markdown",
   "metadata": {},
   "source": [
    "6.  Test your function:  "
   ]
  },
  {
   "cell_type": "code",
   "execution_count": 73,
   "metadata": {},
   "outputs": [
    {
     "data": {
      "text/plain": [
       "1/2"
      ]
     },
     "execution_count": 73,
     "metadata": {},
     "output_type": "execute_result"
    }
   ],
   "source": [
    "mul_rationals(Rational(2, 3), Rational(3,4))"
   ]
  },
  {
   "cell_type": "markdown",
   "metadata": {},
   "source": [
    "7.  Write a function `add_rationals` that computes and returns the **sum** of two rational number objects as a rational number object."
   ]
  },
  {
   "cell_type": "code",
   "execution_count": 74,
   "metadata": {},
   "outputs": [],
   "source": [
    "def add_rationals(lft, rgt):\n",
    "    return Rational(lft.num*rgt.den + rgt.num*lft.den, lft.den * rgt.den)"
   ]
  },
  {
   "cell_type": "markdown",
   "metadata": {},
   "source": [
    "8. Test your function:"
   ]
  },
  {
   "cell_type": "code",
   "execution_count": 75,
   "metadata": {},
   "outputs": [
    {
     "data": {
      "text/plain": [
       "7/6"
      ]
     },
     "execution_count": 75,
     "metadata": {},
     "output_type": "execute_result"
    }
   ],
   "source": [
    "add_rationals(Rational(1,2), Rational(2,3))"
   ]
  },
  {
   "cell_type": "markdown",
   "metadata": {},
   "source": [
    "9.  Write a function `sub_rationals` that computes and returns the **difference** of two rational number objects as a rational number object, perhaps as the sum of one and the negative of the other."
   ]
  },
  {
   "cell_type": "code",
   "execution_count": 76,
   "metadata": {},
   "outputs": [],
   "source": [
    "def sub_rationals(lft, rgt):\n",
    "    return Rational(lft.num*rgt.den - rgt.num*lft.den, lft.den * rgt.den)"
   ]
  },
  {
   "cell_type": "markdown",
   "metadata": {},
   "source": [
    "10. Test your function:"
   ]
  },
  {
   "cell_type": "code",
   "execution_count": 77,
   "metadata": {},
   "outputs": [
    {
     "data": {
      "text/plain": [
       "1/6"
      ]
     },
     "execution_count": 77,
     "metadata": {},
     "output_type": "execute_result"
    }
   ],
   "source": [
    "sub_rationals(Rational(2, 3), Rational(1,2))"
   ]
  },
  {
   "cell_type": "markdown",
   "metadata": {},
   "source": [
    "11. Write a function `eq_rationals` that tests two rational number objects for equality, i.e., it returns `True` if the two represent the same value, and it returns `False` if not."
   ]
  },
  {
   "cell_type": "code",
   "execution_count": 78,
   "metadata": {},
   "outputs": [],
   "source": [
    "def eq_rationals(lft, rgt):\n",
    "    return lft.num * rgt.den == rgt.num * lft.den"
   ]
  },
  {
   "cell_type": "markdown",
   "metadata": {},
   "source": [
    "12.  Test your function:"
   ]
  },
  {
   "cell_type": "code",
   "execution_count": 79,
   "metadata": {},
   "outputs": [
    {
     "name": "stdout",
     "output_type": "stream",
     "text": [
      "True\n",
      "False\n"
     ]
    }
   ],
   "source": [
    "print(eq_rationals(Rational(1,2), Rational(2,4)))\n",
    "print(eq_rationals(Rational(1,2), Rational(3,4)))"
   ]
  },
  {
   "cell_type": "markdown",
   "metadata": {},
   "source": [
    "13.  Now rewrite your class definition for `Rational` objects  with **special methods**\n",
    "   * `__neg__` similar to `neg_rational`\n",
    "   * `__mul__` similar to `mul_rationals`\n",
    "   * `__add__` similar to `add_rationals`\n",
    "   * `__sub__` similar to `sub_rationals`\n",
    "   * `__eq__` similar to `eq_rationals`"
   ]
  },
  {
   "cell_type": "code",
   "execution_count": 80,
   "metadata": {},
   "outputs": [],
   "source": [
    "from math import gcd\n",
    "\n",
    "class Rational:\n",
    "    def __init__(self, num: int, den: int):\n",
    "        if den == 0:\n",
    "                raise ValueError(\"Denominator cannot be zero.\")\n",
    "\n",
    "        # Reduce the fraction to its lowest terms\n",
    "        common_divisor = gcd(num, den)\n",
    "        self.num = num // common_divisor\n",
    "        self.den = den // common_divisor\n",
    "\n",
    "        # If the denominator is negative, adjust the sign to keep the denominator positive\n",
    "        if self.den < 0:\n",
    "                self.num = -self.num\n",
    "                self.den = -self.den\n",
    "        \n",
    "    def __repr__(self):\n",
    "        if self.den == 1:\n",
    "            return str(self.num)\n",
    "        else:\n",
    "            return f\"{self.num}/{self.den}\"\n",
    "\n",
    "    def __neg__(self):\n",
    "        return Rational(-self.num, self.den)\n",
    "\n",
    "    def __mul__(self, other):\n",
    "        return Rational(self.num * other.num, self.den * other.den)\n",
    "\n",
    "    def __add__(self, other):\n",
    "        return Rational(self.num*other.den + self.num*other.den, self.den * other.den)\n",
    "    \n",
    "    def __sub__(self, other):\n",
    "        return Rational(self.num*other.den - self.num*other.den, self.den * other.den)\n",
    "    \n",
    "    def __eq__(self, other):\n",
    "        return self.num * other.den == other.num * self.den\n",
    "    \n",
    "    def __gt__(self, other):\n",
    "        return self.num * other.den > other.num * self.den\n",
    "    \n",
    "    def __ge__(self, other):\n",
    "        return self.num * other.den >= other.num * self.den"
   ]
  },
  {
   "cell_type": "markdown",
   "metadata": {},
   "source": [
    "14.  Test your class:"
   ]
  },
  {
   "cell_type": "code",
   "execution_count": 81,
   "metadata": {},
   "outputs": [
    {
     "name": "stdout",
     "output_type": "stream",
     "text": [
      "2/3\n",
      "-3/5\n",
      "1/2\n",
      "1\n",
      "0\n",
      "True\n",
      "False\n"
     ]
    }
   ],
   "source": [
    "print(Rational(2, 3))\n",
    "print(-Rational(3, 5))\n",
    "print(Rational(2, 3) * Rational(3, 4))\n",
    "print(Rational(1, 2) + Rational(2, 3))\n",
    "print(Rational(2, 3) - Rational(1, 2))\n",
    "print(Rational(1, 2) == Rational(2, 4))\n",
    "print(Rational(1, 2) == Rational(3, 4))"
   ]
  },
  {
   "cell_type": "markdown",
   "metadata": {},
   "source": [
    "15. What needs to be done so that comparisons like\n",
    "    ```python\n",
    "    Rational(1, 2) < Rational(2, 3)\n",
    "    Rational(1, 2) <= Rational(2, 3)    \n",
    "    ```\n",
    "    are evaluated in a meaningful way?"
   ]
  },
  {
   "cell_type": "code",
   "execution_count": 82,
   "metadata": {},
   "outputs": [],
   "source": [
    "# def __gt__(self, other):\n",
    "#         return self.num * other.den > other.num * self.den\n",
    "    \n",
    "# def __ge__(self, other):\n",
    "#     return self.num * other.den >= other.num * self.den"
   ]
  },
  {
   "cell_type": "code",
   "execution_count": 83,
   "metadata": {},
   "outputs": [
    {
     "data": {
      "text/plain": [
       "True"
      ]
     },
     "execution_count": 83,
     "metadata": {},
     "output_type": "execute_result"
    }
   ],
   "source": [
    "Rational(1,2) < Rational(2,3)"
   ]
  },
  {
   "cell_type": "code",
   "execution_count": 84,
   "metadata": {},
   "outputs": [
    {
     "data": {
      "text/plain": [
       "True"
      ]
     },
     "execution_count": 84,
     "metadata": {},
     "output_type": "execute_result"
    }
   ],
   "source": [
    "Rational(1,2) <= Rational(2,3)"
   ]
  }
 ],
 "metadata": {
  "kernelspec": {
   "display_name": "Python 3",
   "language": "python",
   "name": "python3"
  },
  "language_info": {
   "codemirror_mode": {
    "name": "ipython",
    "version": 3
   },
   "file_extension": ".py",
   "mimetype": "text/x-python",
   "name": "python",
   "nbconvert_exporter": "python",
   "pygments_lexer": "ipython3",
   "version": "3.12.7"
  }
 },
 "nbformat": 4,
 "nbformat_minor": 4
}
