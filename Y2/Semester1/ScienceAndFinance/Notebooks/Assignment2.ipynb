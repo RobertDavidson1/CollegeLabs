{
 "cells": [
  {
   "cell_type": "markdown",
   "metadata": {},
   "source": [
    "### CS2101 - Programming for Science and Finance\n",
    "Prof. Götz Pfeiffer<br />\n",
    "School of Mathematical and Statistical Sciences<br />\n",
    "University of Galway"
   ]
  },
  {
   "cell_type": "markdown",
   "metadata": {},
   "source": [
    "___"
   ]
  },
  {
   "cell_type": "markdown",
   "metadata": {},
   "source": [
    "# Computer Lab 2\n",
    "\n",
    "- Robert Davidson\n",
    "- Student ID: 21428974\n",
    "- <a href=mailto:r.davidson1@universityofgalway.ie>Email</a>\n",
    "\n",
    "___"
   ]
  },
  {
   "cell_type": "markdown",
   "metadata": {},
   "source": [
    "## 1. Lists.\n",
    "\n",
    "Lists are an important compound data structure in Python.  Being dynamic and mutable, they can be applied in many different ways for different purposes."
   ]
  },
  {
   "cell_type": "markdown",
   "metadata": {},
   "source": [
    "1.  Using a `for` loop, write a function `multiple_list` with two arguments, `c` and `numbers`,\n",
    "    where `c` is a number and `numbers` is a list of numbers, which returns the list of `c`-multiples of the numbers in the list `numbers`.  That is, when `numbers` is `[1,2,3,4]`, and `c` is `5`, the function should return the list `[5, 10, 15, 20]`."
   ]
  },
  {
   "cell_type": "code",
   "execution_count": 97,
   "metadata": {},
   "outputs": [],
   "source": [
    "def multiple_list(c :int, numbers : list[int]) -> list[int]:\n",
    "    multiples = []\n",
    "    for num in numbers:\n",
    "        multiples.append(num * c)\n",
    "    \n",
    "    return multiples"
   ]
  },
  {
   "cell_type": "code",
   "execution_count": 98,
   "metadata": {},
   "outputs": [
    {
     "data": {
      "text/plain": [
       "True"
      ]
     },
     "execution_count": 98,
     "metadata": {},
     "output_type": "execute_result"
    }
   ],
   "source": [
    "numbers = [1,2,3,4]\n",
    "c = 5\n",
    "\n",
    "multiple_list(c, numbers)  == [5, 10, 15, 20]"
   ]
  },
  {
   "cell_type": "markdown",
   "metadata": {},
   "source": [
    "2. Using a `for` loop, write a function `sum_lists` which takes two arguments `numbersA` and `numbersB`, both lists of numbers, and returns the single list of all sums of corresponding numbers in the lists `numbersA` and `numbersB`.  That is, if `numbersA` is `[1,2,3]` and `numbersB` is `[1,0,-1]`, the function should return the list `[2,2,2]`. "
   ]
  },
  {
   "cell_type": "code",
   "execution_count": 99,
   "metadata": {},
   "outputs": [],
   "source": [
    "def sum_lists(numbersA : list[int], numbersB : list[int]) -> list[int]:\n",
    "    sums = []\n",
    "    \n",
    "    for i in range(len(numbersA)):\n",
    "        sums.append(numbersA[i] + numbersB[i])\n",
    "\n",
    "    return sums"
   ]
  },
  {
   "cell_type": "code",
   "execution_count": 100,
   "metadata": {},
   "outputs": [
    {
     "data": {
      "text/plain": [
       "True"
      ]
     },
     "execution_count": 100,
     "metadata": {},
     "output_type": "execute_result"
    }
   ],
   "source": [
    "numbersA = [1,2,3]\n",
    "numbersB = [1,0,-1]\n",
    "\n",
    "sum_lists(numbersA, numbersB) == [2, 2, 2]"
   ]
  },
  {
   "cell_type": "markdown",
   "metadata": {},
   "source": [
    "3. Modify your `sum_list` function in such a way that it prints an error message in case the two given argument lists do not have the same length. "
   ]
  },
  {
   "cell_type": "code",
   "execution_count": 101,
   "metadata": {},
   "outputs": [
    {
     "name": "stdout",
     "output_type": "stream",
     "text": [
      "Lists must be the same length\n"
     ]
    }
   ],
   "source": [
    "def sum_lists_v2(numbersA : list[int], numbersB: list[int]) -> list[int]:\n",
    "    if not len(numbersA) == len(numbersB):\n",
    "        print(\"Lists must be the same length\")\n",
    "    else:\n",
    "        sums = []\n",
    "    \n",
    "        for i in range(len(numbersA)):\n",
    "            sums.append(numbersA[i] + numbersB[i])\n",
    "\n",
    "        return sums\n",
    "    \n",
    "numbersA = [1,2,3]\n",
    "numbersB = [1,0,-1, 1]\n",
    "sum_lists_v2(numbersA, numbersB)"
   ]
  },
  {
   "cell_type": "markdown",
   "metadata": {},
   "source": [
    "The first few digits of $\\pi$ are like so:"
   ]
  },
  {
   "cell_type": "code",
   "execution_count": 102,
   "metadata": {},
   "outputs": [],
   "source": [
    "pi = [3, 1, 4, 1, 5, 9, 2, 6, 5, 3, 5, 8, 9, 7, 9, 3, 2, 3, 8, 4, 6, 2, 6, 4, 3, 3,\n",
    "      8, 3, 2, 7, 9, 5, 0, 2, 8, 8, 4, 1, 9, 7, 1, 6, 9, 3, 9, 9, 3, 7, 5, 1, 0]"
   ]
  },
  {
   "cell_type": "markdown",
   "metadata": {},
   "source": [
    "4. Consult the python documentation and find the **list method** that allows you to determine the **position** of the first occurrance of the digit $9$ in the above list.  What is the position of the first $9$ in this list?  What is the position of the second $9$ in this list?"
   ]
  },
  {
   "cell_type": "code",
   "execution_count": 103,
   "metadata": {},
   "outputs": [
    {
     "name": "stdout",
     "output_type": "stream",
     "text": [
      "firstNineIndex = 5\n",
      "secondNineIndex = 12\n"
     ]
    }
   ],
   "source": [
    "firstNineIndex = pi.index(9)\n",
    "secondNineIndex = pi.index(9, firstNineIndex + 1)\n",
    "\n",
    "print(f\"{firstNineIndex = }\")\n",
    "print(f\"{secondNineIndex = }\")"
   ]
  },
  {
   "cell_type": "markdown",
   "metadata": {},
   "source": [
    "5. Consult the python documentation and find out what `enumerate` does to a list.  What does `list(enumerate(pi))` return?\n",
    "Using `enumerate`, write a python program that determines **all** the positions of the digit $9$ in this list."
   ]
  },
  {
   "cell_type": "code",
   "execution_count": 104,
   "metadata": {},
   "outputs": [],
   "source": [
    "def findAllPositions(d : int, numbers : list[int]) -> list[int]:\n",
    "    for index, number in enumerate(pi):\n",
    "        if number == d:\n",
    "            print(f\"{index = }\")"
   ]
  },
  {
   "cell_type": "code",
   "execution_count": 117,
   "metadata": {},
   "outputs": [
    {
     "name": "stdout",
     "output_type": "stream",
     "text": [
      "index = 5\n",
      "index = 12\n",
      "index = 14\n",
      "index = 30\n",
      "index = 38\n",
      "index = 42\n",
      "index = 44\n",
      "index = 45\n"
     ]
    }
   ],
   "source": [
    "findAllPositions(9, pi)"
   ]
  },
  {
   "cell_type": "markdown",
   "metadata": {},
   "source": [
    "6. Consult the python documentation and find the **list method** that allows you to determine the **number** of occurrances of the digit $9$ in the above sequence `pi`.  How often does $9$ appear in the sequence `pi`?"
   ]
  },
  {
   "cell_type": "code",
   "execution_count": 105,
   "metadata": {},
   "outputs": [
    {
     "data": {
      "text/plain": [
       "8"
      ]
     },
     "execution_count": 105,
     "metadata": {},
     "output_type": "execute_result"
    }
   ],
   "source": [
    "pi.count(9)"
   ]
  },
  {
   "cell_type": "markdown",
   "metadata": {},
   "source": [
    "___"
   ]
  },
  {
   "cell_type": "markdown",
   "metadata": {},
   "source": [
    "## 2. List Comprehension\n",
    "\n",
    "Often, the purpose of a `for` loop is to construct a new list from one or more old lists.  Many such tasks can be concisely expressed through list comprehension, where the elements of the new list are constructed by a **formula**, rather than a loop.  For instance\n",
    "```python\n",
    "[ x**2 for x in range(10) ]\n",
    "```\n",
    "is the list of squares of the numbers $0, \\dots, 9$."
   ]
  },
  {
   "cell_type": "markdown",
   "metadata": {},
   "source": [
    "1.  Using **list comprehension**, write a function `multiple_list1` with two arguments, `c` and `numbers`,\n",
    "    where `c` is a number and `numbers` is a list of numbers, which returns the list of `c`-multiples of the numbers in the list `numbers`.  That is, when `numbers` is `[1,2,3,4]`, and `c` is `5`, the function should return the list `[5, 10, 15, 20]`."
   ]
  },
  {
   "cell_type": "code",
   "execution_count": 106,
   "metadata": {},
   "outputs": [],
   "source": [
    "def multiple_list1(c :int, numbers: list[int]) -> list[int]: \n",
    "    return [num * c for num in numbers]"
   ]
  },
  {
   "cell_type": "code",
   "execution_count": 107,
   "metadata": {},
   "outputs": [
    {
     "data": {
      "text/plain": [
       "True"
      ]
     },
     "execution_count": 107,
     "metadata": {},
     "output_type": "execute_result"
    }
   ],
   "source": [
    "numbers = [1,2,3,4]\n",
    "c = 5\n",
    "\n",
    "multiple_list1(c, numbers) == multiple_list(c, numbers)  == [5, 10, 15, 20]"
   ]
  },
  {
   "cell_type": "markdown",
   "metadata": {},
   "source": [
    "2. Using **list comprehension**, write a function `sum_lists1` which takes two arguments `numbersA` and `numbersB`, both lists of numbers, and returns the single list of all sums of corresponding numbers in the lists `numbersA` and `numbersB`.  That is, if `numbersA` is `[1,2,3]` and `numbersB` is `[1,0,-1]`, the function should return the list `[2,2,2]`. "
   ]
  },
  {
   "cell_type": "code",
   "execution_count": 108,
   "metadata": {},
   "outputs": [],
   "source": [
    "def sum_lists1(numbersA : list[int], numbersB : list[int]) -> list[int]:\n",
    "    return [numbersA[i] + numbersB[i] for i in range(len(numbersA))]"
   ]
  },
  {
   "cell_type": "code",
   "execution_count": 109,
   "metadata": {},
   "outputs": [
    {
     "data": {
      "text/plain": [
       "True"
      ]
     },
     "execution_count": 109,
     "metadata": {},
     "output_type": "execute_result"
    }
   ],
   "source": [
    "numbersA = [1,2,3]\n",
    "numbersB = [1,0,-1]\n",
    "\n",
    "sum_lists1(numbersA, numbersB) == sum_lists(numbersA, numbersB) == [2, 2, 2]"
   ]
  },
  {
   "cell_type": "markdown",
   "metadata": {},
   "source": [
    "3. Write a python program that determines, for each digit $d$ in $\\{0, 1, \\dots, 9\\}$, the number of occurrances of $d$ in the list `pi` above."
   ]
  },
  {
   "cell_type": "code",
   "execution_count": 119,
   "metadata": {},
   "outputs": [],
   "source": [
    "def findOccurence(pi : list[int]) -> int:\n",
    "    for d in range(10):\n",
    "        print(f\"Occurences of {d}  = {pi.count(d)}\")"
   ]
  },
  {
   "cell_type": "code",
   "execution_count": 120,
   "metadata": {},
   "outputs": [
    {
     "name": "stdout",
     "output_type": "stream",
     "text": [
      "Occurences of 0  = 2\n",
      "Occurences of 1  = 5\n",
      "Occurences of 2  = 5\n",
      "Occurences of 3  = 9\n",
      "Occurences of 4  = 4\n",
      "Occurences of 5  = 5\n",
      "Occurences of 6  = 4\n",
      "Occurences of 7  = 4\n",
      "Occurences of 8  = 5\n",
      "Occurences of 9  = 8\n"
     ]
    }
   ],
   "source": [
    "findOccurence(pi)"
   ]
  },
  {
   "cell_type": "markdown",
   "metadata": {},
   "source": [
    "4. Write a python function `standardBasisElement` that takes two arguments, `n` and `i`, and computes and returns a list of length `n` with all entries $0$, except for the entry at position $i$, which should be $1$.  That is, `standardBasisElement(5, 3)` should return the list `[0, 0, 0, 1, 0]`."
   ]
  },
  {
   "cell_type": "code",
   "execution_count": 123,
   "metadata": {},
   "outputs": [],
   "source": [
    "def standardBasisElement(n : int, i : int) -> list[int]:\n",
    "    return [1 if j == i else 0 for j in range(n)]"
   ]
  },
  {
   "cell_type": "code",
   "execution_count": 126,
   "metadata": {},
   "outputs": [
    {
     "data": {
      "text/plain": [
       "True"
      ]
     },
     "execution_count": 126,
     "metadata": {},
     "output_type": "execute_result"
    }
   ],
   "source": [
    "standardBasisElement(5,3) == [0, 0, 0, 1, 0]"
   ]
  },
  {
   "cell_type": "markdown",
   "metadata": {},
   "source": [
    "___"
   ]
  },
  {
   "cell_type": "markdown",
   "metadata": {},
   "source": [
    "## 3. Strings\n",
    "\n",
    "In Python, strings are like lists, except that they are immutable and homogeneous."
   ]
  },
  {
   "cell_type": "markdown",
   "metadata": {},
   "source": [
    "Suppose that `text` is the following string."
   ]
  },
  {
   "cell_type": "code",
   "execution_count": 112,
   "metadata": {},
   "outputs": [],
   "source": [
    "text = \"Programming for Science and Finance\""
   ]
  },
  {
   "cell_type": "markdown",
   "metadata": {},
   "source": [
    "1. Consult the Python documentation and find the **string method** that converts a string into ALL CAPITALS.  What is the all capitals version of `text`?"
   ]
  },
  {
   "cell_type": "code",
   "execution_count": 128,
   "metadata": {},
   "outputs": [
    {
     "data": {
      "text/plain": [
       "'PROGRAMMING FOR SCIENCE AND FINANCE'"
      ]
     },
     "execution_count": 128,
     "metadata": {},
     "output_type": "execute_result"
    }
   ],
   "source": [
    "capitalText = text.upper()\n",
    "capitalText"
   ]
  },
  {
   "cell_type": "markdown",
   "metadata": {},
   "source": [
    "The builtin function [`ord`](https://docs.python.org/3/library/functions.html#ord) returns the [ASCII](https://en.wikipedia.org/wiki/ASCII) code of a single character like so:"
   ]
  },
  {
   "cell_type": "code",
   "execution_count": 114,
   "metadata": {},
   "outputs": [
    {
     "data": {
      "text/plain": [
       "65"
      ]
     },
     "execution_count": 114,
     "metadata": {},
     "output_type": "execute_result"
    }
   ],
   "source": [
    "ord('A')"
   ]
  },
  {
   "cell_type": "markdown",
   "metadata": {},
   "source": [
    "The inverse function of `ord` is [`chr`](https://docs.python.org/3/library/functions.html#chr). It converts an ASCII code into the corresponding character:"
   ]
  },
  {
   "cell_type": "code",
   "execution_count": 115,
   "metadata": {},
   "outputs": [
    {
     "data": {
      "text/plain": [
       "'A'"
      ]
     },
     "execution_count": 115,
     "metadata": {},
     "output_type": "execute_result"
    }
   ],
   "source": [
    "chr(65)"
   ]
  },
  {
   "cell_type": "markdown",
   "metadata": {},
   "source": [
    "2.  Using **list comprehension**, construct the list (or string) of all 26 uppercase letters of the alphabet.   Then use this list to determine, for each letter `l`, the number of occurrances of `l` in the all capitals version of text."
   ]
  },
  {
   "cell_type": "code",
   "execution_count": 132,
   "metadata": {},
   "outputs": [
    {
     "data": {
      "text/plain": [
       "['A',\n",
       " 'B',\n",
       " 'C',\n",
       " 'D',\n",
       " 'E',\n",
       " 'F',\n",
       " 'G',\n",
       " 'H',\n",
       " 'I',\n",
       " 'J',\n",
       " 'K',\n",
       " 'L',\n",
       " 'M',\n",
       " 'N',\n",
       " 'O',\n",
       " 'P',\n",
       " 'Q',\n",
       " 'R',\n",
       " 'S',\n",
       " 'T',\n",
       " 'U',\n",
       " 'V',\n",
       " 'W',\n",
       " 'X',\n",
       " 'Y',\n",
       " 'Z']"
      ]
     },
     "execution_count": 132,
     "metadata": {},
     "output_type": "execute_result"
    }
   ],
   "source": [
    "alphabetUpper = [chr(65 +i) for i in range(26)]\n",
    "alphabetUpper"
   ]
  },
  {
   "cell_type": "code",
   "execution_count": 134,
   "metadata": {},
   "outputs": [
    {
     "name": "stdout",
     "output_type": "stream",
     "text": [
      "A = 3\n",
      "B = 0\n",
      "C = 3\n",
      "D = 1\n",
      "E = 3\n",
      "F = 2\n",
      "G = 2\n",
      "H = 0\n",
      "I = 3\n",
      "J = 0\n",
      "K = 0\n",
      "L = 0\n",
      "M = 2\n",
      "N = 5\n",
      "O = 2\n",
      "P = 1\n",
      "Q = 0\n",
      "R = 3\n",
      "S = 1\n",
      "T = 0\n",
      "U = 0\n",
      "V = 0\n",
      "W = 0\n",
      "X = 0\n",
      "Y = 0\n",
      "Z = 0\n"
     ]
    }
   ],
   "source": [
    "def charOccurence(alphabet : list[str], upperText : str) -> list[int]:\n",
    "    for letter in alphabet:\n",
    "        print(f\"{letter} = {upperText.count(letter)}\")\n",
    "\n",
    "charOccurence(alphabetUpper, capitalText)"
   ]
  }
 ],
 "metadata": {
  "kernelspec": {
   "display_name": "Python 3",
   "language": "python",
   "name": "python3"
  },
  "language_info": {
   "codemirror_mode": {
    "name": "ipython",
    "version": 3
   },
   "file_extension": ".py",
   "mimetype": "text/x-python",
   "name": "python",
   "nbconvert_exporter": "python",
   "pygments_lexer": "ipython3",
   "version": "3.12.6"
  }
 },
 "nbformat": 4,
 "nbformat_minor": 4
}
