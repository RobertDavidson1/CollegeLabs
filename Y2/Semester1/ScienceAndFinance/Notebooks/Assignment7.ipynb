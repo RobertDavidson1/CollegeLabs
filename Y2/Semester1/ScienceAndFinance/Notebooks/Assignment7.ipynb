{
 "cells": [
  {
   "cell_type": "markdown",
   "metadata": {},
   "source": [
    "### CS2101 - Programming for Science and Finance\n",
    "Prof. Götz Pfeiffer<br />\n",
    "School of Mathematical and Statistical Sciences<br />\n",
    "University of Galway"
   ]
  },
  {
   "cell_type": "markdown",
   "metadata": {},
   "source": [
    "# Computer Lab 7"
   ]
  },
  {
   "cell_type": "code",
   "execution_count": null,
   "metadata": {},
   "outputs": [],
   "source": [
    "import numpy as np\n",
    "import matplotlib.pyplot as plt\n",
    "import math\n",
    "from IPython.display import display, Markdown"
   ]
  },
  {
   "cell_type": "markdown",
   "metadata": {},
   "source": [
    "## 1. Numerical Differentiation."
   ]
  },
  {
   "cell_type": "markdown",
   "metadata": {
    "scrolled": true
   },
   "source": [
    "1. As the derivative of a function $f \\colon D \\to \\mathbb{R}$ (for some $D \\subseteq \\mathbb{R}$) at a point $x \\in D$ is given by the limit \n",
    "  $$\n",
    "  f'(x) = \\lim_{h \\to 0} \\frac{f(x+h) - f(x-h)}{2h}\n",
    "  $$\n",
    "  we can use\n",
    "  $$\n",
    "  f'(x) \\approx \\frac{f(x+h) - f(x-h)}{2h}\n",
    "  $$\n",
    "  for small values of $h$ as an approximation of the value of the derivative of $f$ at $x$.  Write a function `derivative` that takes a function $f$ and a small value $h$ as input and the computes and returns the derivative $f'$ as a function, using the above approximation.  Can you use a `lambda` expression to avoid having to invent a variable name for the derivative?"
   ]
  },
  {
   "cell_type": "code",
   "execution_count": null,
   "metadata": {},
   "outputs": [],
   "source": [
    "def derivative(f, h):\n",
    "    return lambda x: (f(x + h) - f(x - h)) / (2 * h)\n"
   ]
  },
  {
   "cell_type": "markdown",
   "metadata": {},
   "source": [
    "2. Check, perhaps with $h = 10^{-5}$, that your function computes $-\\sin(x)$ as the derivative of $\\cos(x)$ by plotting both your derivative and the $-\\sin(x)$ function over the interval $[0, 2\\pi]$."
   ]
  },
  {
   "cell_type": "code",
   "execution_count": null,
   "metadata": {},
   "outputs": [],
   "source": [
    "x_values = np.linspace(0, 2 * math.pi, 100)\n",
    "\n",
    "f = math.cos\n",
    "h = 1E-5\n",
    "f_prime = derivative(f, h)\n",
    "\n",
    "y_values = [f_prime(x) for x in x_values]\n",
    "y_actual = [-math.sin(x) for x in x_values]\n",
    "\n",
    "plt.figure(figsize=(10, 6))\n",
    "plt.plot(x_values, y_values, label=\"Approximate derivative of cos(x)\", linestyle='--')\n",
    "plt.plot(x_values, y_actual, label=\"-sin(x)\", alpha=0.5)\n",
    "plt.title(\"Comparison of Approximate Derivative of cos(x) and -sin(x)\")\n",
    "pi_ticks = [0, math.pi/2, math.pi, 3*math.pi/2, 2*math.pi]\n",
    "pi_labels = ['0', 'π/2', 'π', '3π/2', '2π']\n",
    "plt.xticks(pi_ticks, pi_labels)\n",
    "plt.xlabel(\"x\")\n",
    "plt.ylabel(\"y\")\n",
    "plt.legend()\n",
    "plt.grid(True)\n",
    "plt.show()\n",
    "\n",
    "\n"
   ]
  },
  {
   "cell_type": "markdown",
   "metadata": {},
   "source": [
    "3. Using your `derivative` function, plot $f(x) = 3x^4 - 4x^3 - 12x^2 + 5$ (over the interval $[-2, 3]$), its first derivative $f'$ (over the interval $[-1.4,2.3]$) and its second derivative $f''$ (over the interval $[-1,1.6]$)."
   ]
  },
  {
   "cell_type": "code",
   "execution_count": null,
   "metadata": {},
   "outputs": [],
   "source": [
    "def f(x):\n",
    "    return (3*x**4) - (4*x**3) - (12*x**2) + 5\n",
    "\n",
    "h = 1E-5\n",
    "f_prime = derivative(f, h)\n",
    "f_double_prime = derivative(f_prime, h)\n",
    "\n",
    "# x values\n",
    "x_f = np.linspace(-2, 3, 100)\n",
    "x_f_prime = np.linspace(-1.4, 2.3, 100)\n",
    "x_f_double_prime = np.linspace(-1, 1.6, 100)\n",
    "\n",
    "# Calculate y values\n",
    "y_f = [f(x) for x in x_f]\n",
    "y_f_prime = [f_prime(x) for x in x_f_prime]\n",
    "y_f_double_prime = [f_double_prime(x) for x in x_f_double_prime]\n",
    "\n",
    "plt.figure(figsize=(10, 6))\n",
    "plt.plot(x_f, y_f, label=\"$f(x) = 3x^4 - 4x^3 - 12x^2 + 5$\")\n",
    "plt.plot(x_f_prime, y_f_prime, label=\"$f'(x)$\")\n",
    "plt.plot(x_f_double_prime, y_f_double_prime, label=\"$f''(x)$\")\n",
    "plt.legend()\n",
    "plt.grid(True)\n",
    "plt.show()\n",
    "\n",
    "# Plot f(x)\n",
    "plt.figure(figsize=(10, 6))\n",
    "plt.plot(x_f, y_f, label=\"$f(x) = 3x^4 - 4x^3 - 12x^2 + 5$\")\n",
    "plt.title(\"Function $f(x)$\")\n",
    "plt.xlabel(\"x\")\n",
    "plt.ylabel(\"$f(x)$\")\n",
    "plt.legend()\n",
    "plt.grid(True)\n",
    "plt.show()\n",
    "\n",
    "# Plot f'(x)\n",
    "plt.figure(figsize=(10, 6))\n",
    "plt.plot(x_f_prime, y_f_prime, label=\"$f'(x)$\", color='orange')\n",
    "plt.title(\"First Derivative $f'(x)$\")\n",
    "plt.xlabel(\"x\")\n",
    "plt.ylabel(\"$f'(x)$\")\n",
    "plt.legend()\n",
    "plt.grid(True)\n",
    "plt.show()\n",
    "\n",
    "# Plot f''(x)\n",
    "plt.figure(figsize=(10, 6))\n",
    "plt.plot(x_f_double_prime, y_f_double_prime, label=\"$f''(x)$\", color='red')\n",
    "plt.title(\"Second Derivative $f''(x)$\")\n",
    "plt.xlabel(\"x\")\n",
    "plt.ylabel(\"$f''(x)$\")\n",
    "plt.legend()\n",
    "plt.grid(True)\n",
    "plt.show()\n"
   ]
  },
  {
   "cell_type": "markdown",
   "metadata": {},
   "source": [
    "## 2.  Newton's Method"
   ]
  },
  {
   "cell_type": "markdown",
   "metadata": {},
   "source": [
    "1.  Using your function `derivative`, implement Newton's method `newton` from the lectures."
   ]
  },
  {
   "cell_type": "code",
   "execution_count": null,
   "metadata": {},
   "outputs": [],
   "source": [
    "def newton(f, eps, h):\n",
    "    fprime = derivative(f,h)\n",
    "    def solve(x):\n",
    "        while abs(f(x)) >= eps:\n",
    "            x -= f(x)/fprime(x)\n",
    "        return x\n",
    "    return solve"
   ]
  },
  {
   "cell_type": "markdown",
   "metadata": {},
   "source": [
    "2.  Use your implementation of Newton's method to find solutions to the equation $\\cos(x) = \\sqrt{2}/2$, say for $50$ different starting values $x_0$ in the interval $[1,11]$. Check that all your solutions are integer multiples of $\\pi/4$.  Modulo $8$, which integers do occur? (And which ones don't?)"
   ]
  },
  {
   "cell_type": "code",
   "execution_count": null,
   "metadata": {},
   "outputs": [],
   "source": [
    "eps = h =  1E-5\n",
    "f = lambda x: math.cos(x) - math.sqrt(2)/2\n",
    "x_0 = np.linspace(1, 11, 50)\n",
    "\n",
    "eq_solve = newton(f, eps, h)\n",
    "approx_roots = np.array([eq_solve(x) for x in x_0])\n",
    "\n",
    "# Convert solutions to integers\n",
    "multiples = approx_roots * 4 / math.pi\n",
    "numbers = np.round(multiples, 0)\n",
    "\n",
    "# Calculate modulo 8\n",
    "mod_8_set = set(numbers % 8)\n",
    "missing_mod_8 = set(range(8)) - mod_8_set"
   ]
  },
  {
   "cell_type": "code",
   "execution_count": null,
   "metadata": {},
   "outputs": [],
   "source": [
    "# Display solutions\n",
    "display(Markdown(\n",
    "        rf\"\"\"Solutions that are integer multiples of $\\frac{{\\pi}}{{4}} \\mod 8$:\n",
    "        {sorted(int(sol) for sol in mod_8_set)}\"\"\"))\n",
    "\n",
    "display(Markdown(\n",
    "    fr\"Integers $\\text{{mod}}\\; 8$ that do not occur: {sorted(missing_mod_8)}\"\n",
    "))"
   ]
  },
  {
   "cell_type": "markdown",
   "metadata": {},
   "source": [
    "## 3.  Solving Differential Equations"
   ]
  },
  {
   "cell_type": "markdown",
   "metadata": {},
   "source": [
    "1. [Euler's method](https://en.wikipedia.org/wiki/Euler_method) is a simple method for solving a first-order initial value problem of the form\n",
    "  $$\n",
    "  \\begin{cases}\n",
    "  y' = f(t, y(t)) \\\\\n",
    "  y(t_0) = y_0\n",
    "  \\end{cases}\n",
    "  $$\n",
    "  numerically.  Using the approximation\n",
    "  $$\n",
    "  y'(t_0) = \\frac{y(t_0 + h) - y(t_0)}{h}\n",
    "  $$\n",
    "  for the derivative of $y$ at a point $t_0$, one obtains for any chosen step-size $h$ a solution\n",
    "  $$\n",
    "  y_1 = y(t_0+h) = y(t_0) + h f(t_0, y(t_0)) = y_0 + h f(t_0, y_0).\n",
    "  $$\n",
    "  This process can be iterated.  Letting $t_n = t_0 + nh$, we compute $y_n$, an approximation of $y(t_n)$ by iterating the following step:\n",
    "  $$\n",
    "  y_{i+1} = y_i + h f(t_i, y_i).\n",
    "  $$\n",
    "  Implement this process as a function `euler` as follows.  The function `euler` has $4$ parameters: the function $f$, the initial value $t_0$, the initial value $y_0$ and the step-size $h$.  From these it constructs an returns a function `approx` so that a call `approx(n)`  computes and returns the approximation $y_n$ of $y(t_n)$."
   ]
  },
  {
   "cell_type": "code",
   "execution_count": null,
   "metadata": {},
   "outputs": [],
   "source": [
    "def euler(f, t0, y0, h):\n",
    "    def approx(n):\n",
    "        # Initialize variables\n",
    "        t = t0\n",
    "        y = y0\n",
    "        # Iterate to approximate the solution\n",
    "        for _ in range(n):\n",
    "            # Compute the next y and t using Euler's method\n",
    "            y = y + h * f(t, y)\n",
    "            t = t + h\n",
    "        return y\n",
    "    \n",
    "    return approx"
   ]
  },
  {
   "cell_type": "markdown",
   "metadata": {},
   "source": [
    "2. Use your function `euler` to approximately solve the initial value problem\n",
    "  $$\n",
    "  \\begin{cases}\n",
    "  y' = 2y + t^2 - t \\\\\n",
    "  y(0) = 1\n",
    "  \\end{cases}\n",
    "  $$\n",
    "  using a step size of $h = 0.01$. (This initial-value problem has the exact solution $y(t) = e^{2t} -t^2/2$ which can be verified by differentiation.)"
   ]
  },
  {
   "cell_type": "code",
   "execution_count": null,
   "metadata": {},
   "outputs": [],
   "source": [
    "# Define the function f(t,y) = 2y + t^2 - t\n",
    "def f(t,y):\n",
    "    return 2*y + t**2 -t\n",
    "\n",
    "# Exact solution for comparison\n",
    "def exact_solution(t):\n",
    "    return np.exp(2 * t) - t**2 / 2\n",
    "\n",
    "# Initial conditions\n",
    "t0 = 0\n",
    "y0 = 1\n",
    "h = 0.01\n",
    "steps = int(1 / h)  # Number of steps to reach t=1\n",
    "t_values = np.linspace(0, 1, steps + 1)\n",
    "\n",
    "# Compute approximate and exact solutions\n",
    "approx = euler(f, t0, y0, h)\n",
    "euler_results = [approx(i) for i in range(steps + 1)]\n",
    "exact_results = [exact_solution(t) for t in t_values]"
   ]
  },
  {
   "cell_type": "markdown",
   "metadata": {},
   "source": [
    "3. Plot your solution and the exact solution over `np.linspace(0, 1, 101)`."
   ]
  },
  {
   "cell_type": "code",
   "execution_count": null,
   "metadata": {},
   "outputs": [],
   "source": [
    "# Adjusting to plot solutions over np.linspace(0, 1, 101)\n",
    "t_values_fixed = np.linspace(0, 1, 101)\n",
    "\n",
    "# Recalculating Euler results over the fixed t_values\n",
    "step_size_fixed = 0.01\n",
    "approx_fixed = euler(f, t0, y0, step_size_fixed)\n",
    "euler_results_fixed = [approx(int(t / step_size_fixed)) for t in t_values_fixed]\n",
    "exact_results_fixed = [exact_solution(t) for t in t_values_fixed]\n",
    "\n",
    "# Plot the results\n",
    "plt.figure(figsize=(10, 6))\n",
    "plt.plot(t_values_fixed, euler_results_fixed, label=\"Euler Approximation\", linestyle=\"--\")\n",
    "plt.plot(t_values_fixed, exact_results_fixed, label=\"Exact Solution\", linestyle=\"-\")\n",
    "plt.xlabel(\"t\")\n",
    "plt.ylabel(\"y\")\n",
    "plt.title(\"Euler Approximation vs Exact Solution (Refined t-values)\")\n",
    "plt.legend()\n",
    "plt.grid(True)\n",
    "plt.show()\n"
   ]
  },
  {
   "cell_type": "markdown",
   "metadata": {},
   "source": [
    "## 4.  Numerical Integration"
   ]
  },
  {
   "cell_type": "markdown",
   "metadata": {},
   "source": [
    "* One well-known method to approximate a definite integral\n",
    "  $$\n",
    "  I = \\int_a^b f(x) \\, dx.\n",
    "  $$\n",
    "  is the [Trapezoid method](https://en.wikipedia.org/wiki/Trapezoidal_rule). It approximates the definite integral $I$ by the area beneath the graph of $f$ by trapezoids.  For this, we choose a value for the parameter $N$, which is the number of subintervals we divide the interval $[a,b]$ into. Then we get the approximation\n",
    "  $$\n",
    "  I \\approx  \\frac{b-a}{2N}(f(x_0) + 2f(x_1) + 2 f(x_3) + \\cdots + 2f(x_{N-1}) + f(x_N)).\n",
    "  $$"
   ]
  },
  {
   "cell_type": "markdown",
   "metadata": {},
   "source": [
    "1. Your task is to write a function `trapezoid`, taking two parameters: the function `f` to integrate, and the number `N` of subintervals.  It then constructs and returns a function `F`, say, of two parameters `a` and `b`,  which approximates $I$ according to the above rule. Thus, for example:\n",
    "   ```python\n",
    "       F = trapezoid(lambda x: x, 10)\n",
    "       F(1,2)\n",
    "   ```\n",
    "   should yield the value $1.5$."
   ]
  },
  {
   "cell_type": "code",
   "execution_count": null,
   "metadata": {},
   "outputs": [],
   "source": [
    "def trapezoid(f, N):\n",
    "    def F(a, b):\n",
    "        # Calculate the width of each subinterval\n",
    "        h = (b - a) / N\n",
    "        # Compute the x-values for the interval\n",
    "        x_values = [a + i * h for i in range(N + 1)]\n",
    "        # Compute the sum of the function values\n",
    "        integral = f(x_values[0]) + f(x_values[-1])  # f(x_0) + f(x_N)\n",
    "        integral += 2 * sum(f(x) for x in x_values[1:-1])  # 2 * sum of interior points\n",
    "        # Multiply by the width of the trapezoids\n",
    "        return (h / 2) * integral\n",
    "\n",
    "    return F"
   ]
  },
  {
   "cell_type": "code",
   "execution_count": null,
   "metadata": {},
   "outputs": [],
   "source": [
    "F = trapezoid(lambda x : x, 10)\n",
    "F(1,2)"
   ]
  },
  {
   "cell_type": "markdown",
   "metadata": {},
   "source": [
    "2.  Approximate $I = \\int_0^1 e^{x^2}\\, dx$, using your function `trapezoid` once with $10$ subintervals, then with $100$ subintervals, and again with $1000$ subintervals."
   ]
  },
  {
   "cell_type": "code",
   "execution_count": null,
   "metadata": {},
   "outputs": [],
   "source": [
    "# Define the function to integrate\n",
    "f = lambda x: np.exp(x**2)\n",
    "\n",
    "# Create the trapezoid approximation function for different subintervals\n",
    "F_10 = trapezoid(f, 10)\n",
    "F_100 = trapezoid(f, 100)\n",
    "F_1000 = trapezoid(f, 1000)\n",
    "\n",
    "# Compute the integral over [0, 1] with the different approximations\n",
    "result_10 = F_10(0, 1)\n",
    "result_100 = F_100(0, 1)\n",
    "result_1000 = F_1000(0, 1)\n",
    "\n",
    "print(f\"10 Subintervals: {result_10}\")\n",
    "print(f\"100 Subintervals: {result_100}\")\n",
    "print(f\"1000 Subintervals: {result_1000}\")\n"
   ]
  },
  {
   "cell_type": "markdown",
   "metadata": {},
   "source": [
    "## 5.  Decorators"
   ]
  },
  {
   "cell_type": "markdown",
   "metadata": {},
   "source": [
    "* A **decorator** is a function that takes a function `f` as argument, constructs and returns a new function `ff` which is then reassigned to `f`.  In Python, a decorator can be applied to function definition with the `@` syntax."
   ]
  },
  {
   "cell_type": "markdown",
   "metadata": {},
   "source": [
    "1. Define a decorator `logCall` that, when applied to a function `f`, each time `f` is called, the function call with its arguments and the return value are printed as in `f(x, y) = z`.  For example, if `f` computes the absolute value of the difference of `x` and `y`, then after defining\n",
    "   ```python\n",
    "      @logCall\n",
    "      def f(x, y):\n",
    "          return abs(x - y)\n",
    "   ```\n",
    "   a call like `f(3, 5)` should cause a printed message like\n",
    "   ```python\n",
    "      f(3, 5) = 2\n",
    "   ```"
   ]
  },
  {
   "cell_type": "code",
   "execution_count": null,
   "metadata": {},
   "outputs": [],
   "source": [
    "def logCall(f):\n",
    "    def ff(*args):\n",
    "        result = f(*args)\n",
    "        print(f\"{f.__name__}({', '.join(map(str, args))}) = {result}\")\n",
    "        return result\n",
    "    return ff"
   ]
  },
  {
   "cell_type": "markdown",
   "metadata": {},
   "source": [
    "2.  Test your decorator on the function `f(x, y)` above."
   ]
  },
  {
   "cell_type": "code",
   "execution_count": null,
   "metadata": {},
   "outputs": [],
   "source": [
    "@logCall\n",
    "def f(x, y):\n",
    "    return abs(x - y)"
   ]
  },
  {
   "cell_type": "code",
   "execution_count": null,
   "metadata": {},
   "outputs": [],
   "source": [
    "f(3, 5)"
   ]
  },
  {
   "cell_type": "markdown",
   "metadata": {},
   "source": [
    "3. Define a version of the greatest common denominator, decorated with `@logCall`.  Then test `gcd(60, 24)`."
   ]
  },
  {
   "cell_type": "code",
   "execution_count": null,
   "metadata": {},
   "outputs": [],
   "source": [
    "@logCall\n",
    "def gcd(a, b):\n",
    "    return a if b == 0 else gcd(b, a % b)"
   ]
  },
  {
   "cell_type": "code",
   "execution_count": null,
   "metadata": {},
   "outputs": [],
   "source": [
    "gcd(60,24)"
   ]
  },
  {
   "cell_type": "markdown",
   "metadata": {},
   "source": [
    "4. A decorator need not be a function, it only has to be **callable**.  An object `o` of a class `C` is callable, if the class `C` implements the special method `__call__`.  Then a function call like `o(arg)` will refer back to `o.__call__(arg)`.  Write a **decorator class** `countedFunc` which for the decorated function counts how often it gets called.  This class should implement two special functions: `__init__` has parameters `self` and the function `func` to be decorated, and should assign `func` to the attribute `func` of `self`, and initialize an attribute `count` of `self` as $0$; and `__call__` should have arguments `self` and `*args`, increment the counter `self.count` by one, and then call the function `self.func` with arguments `*args` and return the resulting value."
   ]
  },
  {
   "cell_type": "code",
   "execution_count": null,
   "metadata": {},
   "outputs": [],
   "source": [
    "class countedFunc:\n",
    "    def __init__(self, func):\n",
    "        self.func = func\n",
    "        self.count = 0  # Initialize the count to 0\n",
    "\n",
    "\n",
    "    def __call__(self, *args):\n",
    "        self.count +=1 \n",
    "        return self.func(*args)\n"
   ]
  },
  {
   "cell_type": "markdown",
   "metadata": {},
   "source": [
    "5. Decorate a simple function for computing [Fibonacci numbers](https://en.wikipedia.org/wiki/Fibonacci_sequence)\n",
    "   ```python\n",
    "      def fibonacci(n):\n",
    "          return n if n < 2 else fibonacci(n-2) + fibonacci(n-1)\n",
    "   ```\n",
    "   with your decorator `countedFunc`, then call `fibonacci(20)` and check that the value of `fibonacci.count` is $21891$."
   ]
  },
  {
   "cell_type": "code",
   "execution_count": null,
   "metadata": {},
   "outputs": [],
   "source": [
    "# Fibonacci function\n",
    "@countedFunc\n",
    "def fibonacci(n):\n",
    "    return n if n < 2 else fibonacci(n-2) + fibonacci(n-1)"
   ]
  },
  {
   "cell_type": "code",
   "execution_count": null,
   "metadata": {},
   "outputs": [],
   "source": [
    "fibonacci(20)"
   ]
  },
  {
   "cell_type": "code",
   "execution_count": null,
   "metadata": {},
   "outputs": [],
   "source": [
    "fibonacci.count"
   ]
  }
 ],
 "metadata": {
  "kernelspec": {
   "display_name": ".venv",
   "language": "python",
   "name": "python3"
  },
  "language_info": {
   "codemirror_mode": {
    "name": "ipython",
    "version": 3
   },
   "file_extension": ".py",
   "mimetype": "text/x-python",
   "name": "python",
   "nbconvert_exporter": "python",
   "pygments_lexer": "ipython3",
   "version": "3.12.7"
  }
 },
 "nbformat": 4,
 "nbformat_minor": 4
}
